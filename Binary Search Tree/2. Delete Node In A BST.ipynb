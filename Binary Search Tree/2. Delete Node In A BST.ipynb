{
 "cells": [
  {
   "cell_type": "markdown",
   "metadata": {},
   "source": [
    "# Given a root node reference of a BST and a key, delete the node with the given key in the BST. Return the root node reference (possibly updated) of the BST.\n",
    "\n",
    "# Basically, the deletion can be divided into two stages: Search for a node to remove. If the node is found, delete the node.\n",
    "\n",
    "# Follow up: Can you solve it with time complexity O(height of tree)?"
   ]
  },
  {
   "cell_type": "code",
   "execution_count": null,
   "metadata": {},
   "outputs": [],
   "source": [
    "def deleteNode(root, key):\n",
    "    if not root:\n",
    "        return root\n",
    "    elif key < root.val:\n",
    "        root.left = deleteNode(root.left, key)\n",
    "    elif key > root.val:\n",
    "        root.right = deleteNode(root.right, key)\n",
    "    else:\n",
    "        if not root.left and not root.right:\n",
    "            root = None\n",
    "        elif not root.right:\n",
    "            root = root.left\n",
    "        elif not root.left:\n",
    "            root = root.right\n",
    "        else:\n",
    "            temp = findMin(root.right)\n",
    "            root.val = temp.val\n",
    "            root.right = deleteNode(root.right, temp.val)\n",
    "\n",
    "    return root\n",
    "\n",
    "def findMin(root):\n",
    "    while root.left:\n",
    "        root = root.left\n",
    "\n",
    "    return root"
   ]
  }
 ],
 "metadata": {
  "kernelspec": {
   "display_name": "Python 3",
   "language": "python",
   "name": "python3"
  },
  "language_info": {
   "codemirror_mode": {
    "name": "ipython",
    "version": 3
   },
   "file_extension": ".py",
   "mimetype": "text/x-python",
   "name": "python",
   "nbconvert_exporter": "python",
   "pygments_lexer": "ipython3",
   "version": "3.8.3"
  }
 },
 "nbformat": 4,
 "nbformat_minor": 4
}
